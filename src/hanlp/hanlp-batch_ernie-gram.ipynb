{
 "cells": [
  {
   "cell_type": "markdown",
   "metadata": {},
   "source": [
    "# Hanlp-batch_ernie-gram\n",
    "\n",
    "Chạy công cụ phân tích dữ liệu dựa vào ERNIE_GRAM, phân tích cả phần.\n",
    "Chương trình này sẽ nhanh hơn `hanlp-single_ernie_gram``, nhưng có khả năng bị trành bộ nhớ\n",
    "Hãy đổi sang `single_ernie_gram` nếu gặp vấn đề trên"
   ]
  },
  {
   "cell_type": "markdown",
   "metadata": {},
   "source": [
    "## Bước 1: Cài đặt thư viện\n",
    "Cần chạy trước khi chạy các bước khác"
   ]
  },
  {
   "cell_type": "code",
   "execution_count": null,
   "metadata": {},
   "outputs": [],
   "source": [
    "%pip install hanlp requests"
   ]
  },
  {
   "cell_type": "markdown",
   "metadata": {},
   "source": [
    "## Bước 2: Tải xuống dữ liệu + cài đặt chương trình\n",
    "Tải xuống thư viện liên quan, bước này có thể sẽ hơi lâu"
   ]
  },
  {
   "cell_type": "code",
   "execution_count": null,
   "metadata": {},
   "outputs": [],
   "source": [
    "import os, re, requests, getpass\n",
    "\n",
    "URL = \"https://chivi.app/_wn\"\n",
    "CLIENT = requests.Session()\n",
    "\n",
    "os.environ[\"HANLP_HOME\"] = \".hanlp\" # đổi địa chỉ lưu models\n",
    "import hanlp\n",
    "\n",
    "# tải xuống dữ liệu \n",
    "MTL_TASK = hanlp.load(hanlp.pretrained.mtl.CLOSE_TOK_POS_NER_SRL_DEP_SDP_CON_ERNIE_GRAM_ZH)\n",
    "\n",
    "# đăng nhập vào hệ thống\n",
    "def do_login():\n",
    "  print(\"\\nThông tin đăng nhập Chivi:\")\n",
    "\n",
    "  print(\"Hòm thư:\", end=' ')\n",
    "  email = input().strip()\n",
    "\n",
    "  upass = getpass.getpass(\"Mật khẩu: \").strip()\n",
    "\n",
    "  json = {'email': email, 'upass': upass}\n",
    "  res = CLIENT.post(\"https://chivi.app/_db/_user/log-in\", json=json)\n",
    "\n",
    "  if res.status_code < 300:\n",
    "    user = res.json()[\"uname\"]\n",
    "    print(f\"Xin chào {user}!\")\n",
    "    print()\n",
    "  else:\n",
    "    print(\"Đăng nhập thất bại, mời thử lại!\")\n",
    "    do_login()\n",
    "\n",
    "# lấy thông tin chương cuối cùng\n",
    "def get_max_ch_no(wn_id, sname):\n",
    "  url = f\"{URL}/seeds/{wn_id}/{sname}/brief\"\n",
    "  res = CLIENT.get(url)\n",
    "  return res.json()[\"chap_count\"]\n",
    "\n",
    "def render_con_data(con_data):\n",
    "  output = ''\n",
    "\n",
    "  for con_line in con_data:\n",
    "    output += re.sub('\\\\n(\\\\s+)', ' ', str(con_line))\n",
    "    output += '\\n'\n",
    "\n",
    "  return output\n",
    "\n",
    "# phản hồi tới người dùng, bỏ qua phần đệm (chỉ chứa tên chương) mỗi chương\n",
    "def print_msg(message, p_idx):\n",
    "  if p_idx > 0:\n",
    "    print(message % p_idx)\n",
    "\n",
    "def analyze_text(ptext, wn_id, sname, ch_no, cksum, p_idx):\n",
    "  mtl_data = MTL_TASK(ptext.split('\\n'))\n",
    "  print_msg(\"  - Đã phân tích xong phần %s, đang tải lên...\", p_idx)\n",
    "\n",
    "  json = {\n",
    "    'wn_id': wn_id, 'sname': sname,\n",
    "    'ch_no': ch_no, 'cksum': cksum,\n",
    "    'p_idx': p_idx, '_algo': 'hmeg',\n",
    "    'con_text': render_con_data(mtl_data[\"con\"]),\n",
    "    'mtl_json': mtl_data,\n",
    "  }\n",
    "\n",
    "  url = \"https://chivi.app/_wn/anlzs/chaps\"\n",
    "  res = CLIENT.post(url, json = json)\n",
    "\n",
    "  if res.status_code < 300:\n",
    "    print_msg(\"  - Đăng tải thành công phần %s\", p_idx)\n",
    "  else:\n",
    "    print(f\"  - Đăng tải thất bại: {res.text}\")\n",
    "\n",
    "\n",
    "def analyze_book(wn_id, sname, chmin = 1, chmax = 0, force = False):\n",
    "  out_dir = f\"output/{wn_id}\"\n",
    "  os.makedirs(out_dir, exist_ok=True)\n",
    "\n",
    "  for ch_no in range(chmin, chmax + 1):\n",
    "    print(f\"- Tải xuống text gốc chương [{ch_no}] nguồn [{sname}] truyện [{wn_id}]:\")\n",
    "\n",
    "    url = f\"{URL}/texts/{wn_id}/{sname}/{ch_no}/parts\"\n",
    "    res = CLIENT.get(url).json()\n",
    "\n",
    "    cksum = res[\"cksum\"]\n",
    "    parts = res[\"parts\"]\n",
    "    _hmeg = res[\"_hmeg\"]\n",
    "\n",
    "    print(f\"  Đã lấy xuống text gốc, chương chia {len(parts) - 1} phần, checksum: [{cksum}].\")\n",
    "    print()\n",
    "\n",
    "    for p_idx, ptext in enumerate(parts):\n",
    "      if _hmeg[p_idx] == True and not force:\n",
    "        print_msg(\"  - Phần %s đã có trên hệ thống, bỏ qua.\")\n",
    "        \n",
    "      try:\n",
    "        analyze_text(ptext, wn_id, ch_no, cksum, p_idx)\n",
    "      except Exception as inst:\n",
    "        print(inst)\n",
    "\n",
    "\n",
    "\n"
   ]
  },
  {
   "cell_type": "markdown",
   "metadata": {},
   "source": [
    "## Bước 3: Đăng nhập vào hệ thống\n",
    "Bạn hãy cung cấp địa chỉ email + mật khẩu tài khoản Chivi để hệ thống định danh\n"
   ]
  },
  {
   "cell_type": "code",
   "execution_count": null,
   "metadata": {},
   "outputs": [],
   "source": [
    "do_login()"
   ]
  },
  {
   "cell_type": "markdown",
   "metadata": {},
   "source": [
    "## Bước 4: Phân tích ngữ pháp cho bộ truyện\n",
    "\n",
    "- ID bộ truyện: Con số đầu tiên trên địa chỉ bộ truyện. Ví dụ truyện có địa chỉ là https://chivi.app/wn/4-quy-bi-chi-chu/ thì ID bộ truyện là 4\n",
    "- Nguồn chương: Tên danh sách chương, nguồn chính thức tên là ~chivi, nguồn tạm thời tên là ~draft, các nguồn cá nhân bắt đầu bằng @ tiếp đó là tên đăng nhập.\n",
    "  "
   ]
  },
  {
   "cell_type": "code",
   "execution_count": null,
   "metadata": {},
   "outputs": [],
   "source": [
    "\n",
    "print(\"Nhập ID bộ truyện:\", end=' ')\n",
    "wn_id = 1 # @params {type: \"integer\"}\n",
    "\n",
    "print(\"Nhập nguồn chương:\", end=' ')\n",
    "sname = \"~chivi\" # params {type: \"string\"}\n",
    "\n",
    "print(\"...Kiểm tra dữ liệu...\", end=' ')\n",
    "\n",
    "url = f\"{URL}/seeds/{wn_id}/{sname}/brief\"\n",
    "res = requests.get(url).json()\n",
    "\n",
    "total = res[\"chap_count\"]\n",
    "print(f\"hoàn thành, nguồn truyện có tổng cộng {total} chương\")\n",
    "\n",
    "print(\"Bắt đầu từ chương (mặc định là 1): \", end=' ')\n",
    "chmin = 1 # @params {type: \"integer\"}\n",
    "\n",
    "print(f\"Tới chương (mặc định là {total}): \", end=' ')\n",
    "chmax = total # @params {type: \"integer\"}\n",
    "\n",
    "if chmax < chmin:\n",
    "  chmax = total\n",
    "\n",
    "if chmin < 1:\n",
    "  chmin = 1\n",
    "\n",
    "print(\"Phân tích lại những chương đã có dữ liệu trên hệ thống: \")\n",
    "force = False # #params {type: \"boolean\"}\n",
    "\n",
    "print(f\"Bạn sẽ chạy chương trình phân tích dữ liệu các chương từ {chmin} tới {chmax} của bộ truyện {wn_id}\")\n",
    "print(f\"Lưu ý: Các chương đã được phân tích sẽ không phân tích lại, hãy kiểm tra trong thư mục output/{wn_id} nếu muốn dọn sạch rác!\")\n",
    "\n",
    "analyze_book(wn_id, sname, chmin, chmax, force)"
   ]
  }
 ],
 "metadata": {
  "language_info": {
   "name": "python"
  },
  "orig_nbformat": 4
 },
 "nbformat": 4,
 "nbformat_minor": 2
}
